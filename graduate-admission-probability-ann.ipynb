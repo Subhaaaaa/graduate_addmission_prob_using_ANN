{
 "cells": [
  {
   "cell_type": "code",
   "execution_count": 1,
   "id": "cba7d69a",
   "metadata": {
    "_cell_guid": "b1076dfc-b9ad-4769-8c92-a6c4dae69d19",
    "_uuid": "8f2839f25d086af736a60e9eeb907d3b93b6e0e5",
    "execution": {
     "iopub.execute_input": "2023-12-07T01:53:25.878544Z",
     "iopub.status.busy": "2023-12-07T01:53:25.878128Z",
     "iopub.status.idle": "2023-12-07T01:53:26.144791Z",
     "shell.execute_reply": "2023-12-07T01:53:26.144156Z"
    },
    "papermill": {
     "duration": 0.276276,
     "end_time": "2023-12-07T01:53:26.146627",
     "exception": false,
     "start_time": "2023-12-07T01:53:25.870351",
     "status": "completed"
    },
    "tags": []
   },
   "outputs": [
    {
     "name": "stdout",
     "output_type": "stream",
     "text": [
      "/kaggle/input/graduate-admissions/Admission_Predict.csv\n",
      "/kaggle/input/graduate-admissions/Admission_Predict_Ver1.1.csv\n"
     ]
    }
   ],
   "source": [
    "# This Python 3 environment comes with many helpful analytics libraries installed\n",
    "# It is defined by the kaggle/python Docker image: https://github.com/kaggle/docker-python\n",
    "# For example, here's several helpful packages to load\n",
    "\n",
    "import numpy as np # linear algebra\n",
    "import pandas as pd # data processing, CSV file I/O (e.g. pd.read_csv)\n",
    "\n",
    "# Input data files are available in the read-only \"../input/\" directory\n",
    "# For example, running this (by clicking run or pressing Shift+Enter) will list all files under the input directory\n",
    "\n",
    "import os\n",
    "for dirname, _, filenames in os.walk('/kaggle/input'):\n",
    "    for filename in filenames:\n",
    "        print(os.path.join(dirname, filename))\n",
    "\n",
    "# You can write up to 20GB to the current directory (/kaggle/working/) that gets preserved as output when you create a version using \"Save & Run All\" \n",
    "# You can also write temporary files to /kaggle/temp/, but they won't be saved outside of the current session"
   ]
  },
  {
   "cell_type": "code",
   "execution_count": 2,
   "id": "70334396",
   "metadata": {
    "execution": {
     "iopub.execute_input": "2023-12-07T01:53:26.156867Z",
     "iopub.status.busy": "2023-12-07T01:53:26.156560Z",
     "iopub.status.idle": "2023-12-07T01:53:26.172684Z",
     "shell.execute_reply": "2023-12-07T01:53:26.171990Z"
    },
    "papermill": {
     "duration": 0.022956,
     "end_time": "2023-12-07T01:53:26.174345",
     "exception": false,
     "start_time": "2023-12-07T01:53:26.151389",
     "status": "completed"
    },
    "tags": []
   },
   "outputs": [],
   "source": [
    "df = pd.read_csv('/kaggle/input/graduate-admissions/Admission_Predict_Ver1.1.csv')"
   ]
  },
  {
   "cell_type": "code",
   "execution_count": 3,
   "id": "b876c1bb",
   "metadata": {
    "execution": {
     "iopub.execute_input": "2023-12-07T01:53:26.184038Z",
     "iopub.status.busy": "2023-12-07T01:53:26.183805Z",
     "iopub.status.idle": "2023-12-07T01:53:26.202052Z",
     "shell.execute_reply": "2023-12-07T01:53:26.201426Z"
    },
    "papermill": {
     "duration": 0.024705,
     "end_time": "2023-12-07T01:53:26.203451",
     "exception": false,
     "start_time": "2023-12-07T01:53:26.178746",
     "status": "completed"
    },
    "tags": []
   },
   "outputs": [
    {
     "data": {
      "text/html": [
       "<div>\n",
       "<style scoped>\n",
       "    .dataframe tbody tr th:only-of-type {\n",
       "        vertical-align: middle;\n",
       "    }\n",
       "\n",
       "    .dataframe tbody tr th {\n",
       "        vertical-align: top;\n",
       "    }\n",
       "\n",
       "    .dataframe thead th {\n",
       "        text-align: right;\n",
       "    }\n",
       "</style>\n",
       "<table border=\"1\" class=\"dataframe\">\n",
       "  <thead>\n",
       "    <tr style=\"text-align: right;\">\n",
       "      <th></th>\n",
       "      <th>Serial No.</th>\n",
       "      <th>GRE Score</th>\n",
       "      <th>TOEFL Score</th>\n",
       "      <th>University Rating</th>\n",
       "      <th>SOP</th>\n",
       "      <th>LOR</th>\n",
       "      <th>CGPA</th>\n",
       "      <th>Research</th>\n",
       "      <th>Chance of Admit</th>\n",
       "    </tr>\n",
       "  </thead>\n",
       "  <tbody>\n",
       "    <tr>\n",
       "      <th>0</th>\n",
       "      <td>1</td>\n",
       "      <td>337</td>\n",
       "      <td>118</td>\n",
       "      <td>4</td>\n",
       "      <td>4.5</td>\n",
       "      <td>4.5</td>\n",
       "      <td>9.65</td>\n",
       "      <td>1</td>\n",
       "      <td>0.92</td>\n",
       "    </tr>\n",
       "    <tr>\n",
       "      <th>1</th>\n",
       "      <td>2</td>\n",
       "      <td>324</td>\n",
       "      <td>107</td>\n",
       "      <td>4</td>\n",
       "      <td>4.0</td>\n",
       "      <td>4.5</td>\n",
       "      <td>8.87</td>\n",
       "      <td>1</td>\n",
       "      <td>0.76</td>\n",
       "    </tr>\n",
       "    <tr>\n",
       "      <th>2</th>\n",
       "      <td>3</td>\n",
       "      <td>316</td>\n",
       "      <td>104</td>\n",
       "      <td>3</td>\n",
       "      <td>3.0</td>\n",
       "      <td>3.5</td>\n",
       "      <td>8.00</td>\n",
       "      <td>1</td>\n",
       "      <td>0.72</td>\n",
       "    </tr>\n",
       "    <tr>\n",
       "      <th>3</th>\n",
       "      <td>4</td>\n",
       "      <td>322</td>\n",
       "      <td>110</td>\n",
       "      <td>3</td>\n",
       "      <td>3.5</td>\n",
       "      <td>2.5</td>\n",
       "      <td>8.67</td>\n",
       "      <td>1</td>\n",
       "      <td>0.80</td>\n",
       "    </tr>\n",
       "    <tr>\n",
       "      <th>4</th>\n",
       "      <td>5</td>\n",
       "      <td>314</td>\n",
       "      <td>103</td>\n",
       "      <td>2</td>\n",
       "      <td>2.0</td>\n",
       "      <td>3.0</td>\n",
       "      <td>8.21</td>\n",
       "      <td>0</td>\n",
       "      <td>0.65</td>\n",
       "    </tr>\n",
       "  </tbody>\n",
       "</table>\n",
       "</div>"
      ],
      "text/plain": [
       "   Serial No.  GRE Score  TOEFL Score  University Rating  SOP  LOR   CGPA  \\\n",
       "0           1        337          118                  4  4.5   4.5  9.65   \n",
       "1           2        324          107                  4  4.0   4.5  8.87   \n",
       "2           3        316          104                  3  3.0   3.5  8.00   \n",
       "3           4        322          110                  3  3.5   2.5  8.67   \n",
       "4           5        314          103                  2  2.0   3.0  8.21   \n",
       "\n",
       "   Research  Chance of Admit   \n",
       "0         1              0.92  \n",
       "1         1              0.76  \n",
       "2         1              0.72  \n",
       "3         1              0.80  \n",
       "4         0              0.65  "
      ]
     },
     "execution_count": 3,
     "metadata": {},
     "output_type": "execute_result"
    }
   ],
   "source": [
    "df.head()"
   ]
  },
  {
   "cell_type": "code",
   "execution_count": 4,
   "id": "e47b4c7c",
   "metadata": {
    "execution": {
     "iopub.execute_input": "2023-12-07T01:53:26.214347Z",
     "iopub.status.busy": "2023-12-07T01:53:26.213604Z",
     "iopub.status.idle": "2023-12-07T01:53:26.232387Z",
     "shell.execute_reply": "2023-12-07T01:53:26.231620Z"
    },
    "papermill": {
     "duration": 0.025764,
     "end_time": "2023-12-07T01:53:26.234108",
     "exception": false,
     "start_time": "2023-12-07T01:53:26.208344",
     "status": "completed"
    },
    "tags": []
   },
   "outputs": [
    {
     "name": "stdout",
     "output_type": "stream",
     "text": [
      "<class 'pandas.core.frame.DataFrame'>\n",
      "RangeIndex: 500 entries, 0 to 499\n",
      "Data columns (total 9 columns):\n",
      " #   Column             Non-Null Count  Dtype  \n",
      "---  ------             --------------  -----  \n",
      " 0   Serial No.         500 non-null    int64  \n",
      " 1   GRE Score          500 non-null    int64  \n",
      " 2   TOEFL Score        500 non-null    int64  \n",
      " 3   University Rating  500 non-null    int64  \n",
      " 4   SOP                500 non-null    float64\n",
      " 5   LOR                500 non-null    float64\n",
      " 6   CGPA               500 non-null    float64\n",
      " 7   Research           500 non-null    int64  \n",
      " 8   Chance of Admit    500 non-null    float64\n",
      "dtypes: float64(4), int64(5)\n",
      "memory usage: 35.3 KB\n"
     ]
    }
   ],
   "source": [
    "df.info()"
   ]
  },
  {
   "cell_type": "code",
   "execution_count": 5,
   "id": "b1c0f8da",
   "metadata": {
    "execution": {
     "iopub.execute_input": "2023-12-07T01:53:26.244908Z",
     "iopub.status.busy": "2023-12-07T01:53:26.244166Z",
     "iopub.status.idle": "2023-12-07T01:53:26.252636Z",
     "shell.execute_reply": "2023-12-07T01:53:26.252124Z"
    },
    "papermill": {
     "duration": 0.015242,
     "end_time": "2023-12-07T01:53:26.254011",
     "exception": false,
     "start_time": "2023-12-07T01:53:26.238769",
     "status": "completed"
    },
    "tags": []
   },
   "outputs": [
    {
     "data": {
      "text/plain": [
       "0      False\n",
       "1      False\n",
       "2      False\n",
       "3      False\n",
       "4      False\n",
       "       ...  \n",
       "495    False\n",
       "496    False\n",
       "497    False\n",
       "498    False\n",
       "499    False\n",
       "Length: 500, dtype: bool"
      ]
     },
     "execution_count": 5,
     "metadata": {},
     "output_type": "execute_result"
    }
   ],
   "source": [
    "df.duplicated()"
   ]
  },
  {
   "cell_type": "code",
   "execution_count": 6,
   "id": "6b44081c",
   "metadata": {
    "execution": {
     "iopub.execute_input": "2023-12-07T01:53:26.264592Z",
     "iopub.status.busy": "2023-12-07T01:53:26.264199Z",
     "iopub.status.idle": "2023-12-07T01:53:26.268331Z",
     "shell.execute_reply": "2023-12-07T01:53:26.267613Z"
    },
    "papermill": {
     "duration": 0.011055,
     "end_time": "2023-12-07T01:53:26.269729",
     "exception": false,
     "start_time": "2023-12-07T01:53:26.258674",
     "status": "completed"
    },
    "tags": []
   },
   "outputs": [
    {
     "data": {
      "text/plain": [
       "(500, 9)"
      ]
     },
     "execution_count": 6,
     "metadata": {},
     "output_type": "execute_result"
    }
   ],
   "source": [
    "df.shape"
   ]
  },
  {
   "cell_type": "code",
   "execution_count": 7,
   "id": "c6a76f42",
   "metadata": {
    "execution": {
     "iopub.execute_input": "2023-12-07T01:53:26.280555Z",
     "iopub.status.busy": "2023-12-07T01:53:26.280162Z",
     "iopub.status.idle": "2023-12-07T01:53:26.286583Z",
     "shell.execute_reply": "2023-12-07T01:53:26.285827Z"
    },
    "papermill": {
     "duration": 0.013556,
     "end_time": "2023-12-07T01:53:26.288160",
     "exception": false,
     "start_time": "2023-12-07T01:53:26.274604",
     "status": "completed"
    },
    "tags": []
   },
   "outputs": [],
   "source": [
    "df.drop(columns=['Serial No.'],inplace=True)"
   ]
  },
  {
   "cell_type": "code",
   "execution_count": 8,
   "id": "ea3a1577",
   "metadata": {
    "execution": {
     "iopub.execute_input": "2023-12-07T01:53:26.298662Z",
     "iopub.status.busy": "2023-12-07T01:53:26.298445Z",
     "iopub.status.idle": "2023-12-07T01:53:26.302409Z",
     "shell.execute_reply": "2023-12-07T01:53:26.301655Z"
    },
    "papermill": {
     "duration": 0.010794,
     "end_time": "2023-12-07T01:53:26.303807",
     "exception": false,
     "start_time": "2023-12-07T01:53:26.293013",
     "status": "completed"
    },
    "tags": []
   },
   "outputs": [],
   "source": [
    "X=df.iloc[:,0:-1]\n",
    "y=df.iloc[:,-1]"
   ]
  },
  {
   "cell_type": "code",
   "execution_count": 9,
   "id": "e3b41ee6",
   "metadata": {
    "execution": {
     "iopub.execute_input": "2023-12-07T01:53:26.314230Z",
     "iopub.status.busy": "2023-12-07T01:53:26.314015Z",
     "iopub.status.idle": "2023-12-07T01:53:27.155559Z",
     "shell.execute_reply": "2023-12-07T01:53:27.154951Z"
    },
    "papermill": {
     "duration": 0.848785,
     "end_time": "2023-12-07T01:53:27.157360",
     "exception": false,
     "start_time": "2023-12-07T01:53:26.308575",
     "status": "completed"
    },
    "tags": []
   },
   "outputs": [],
   "source": [
    "from sklearn.model_selection import train_test_split"
   ]
  },
  {
   "cell_type": "code",
   "execution_count": 10,
   "id": "12e24a05",
   "metadata": {
    "execution": {
     "iopub.execute_input": "2023-12-07T01:53:27.169203Z",
     "iopub.status.busy": "2023-12-07T01:53:27.168522Z",
     "iopub.status.idle": "2023-12-07T01:53:27.174271Z",
     "shell.execute_reply": "2023-12-07T01:53:27.173523Z"
    },
    "papermill": {
     "duration": 0.013016,
     "end_time": "2023-12-07T01:53:27.175799",
     "exception": false,
     "start_time": "2023-12-07T01:53:27.162783",
     "status": "completed"
    },
    "tags": []
   },
   "outputs": [],
   "source": [
    "X_train,X_test,y_train,y_test = train_test_split(X,y,test_size=0.2,random_state=1)"
   ]
  },
  {
   "cell_type": "code",
   "execution_count": 11,
   "id": "0276d3b2",
   "metadata": {
    "execution": {
     "iopub.execute_input": "2023-12-07T01:53:27.186732Z",
     "iopub.status.busy": "2023-12-07T01:53:27.186325Z",
     "iopub.status.idle": "2023-12-07T01:53:27.189231Z",
     "shell.execute_reply": "2023-12-07T01:53:27.188693Z"
    },
    "papermill": {
     "duration": 0.009972,
     "end_time": "2023-12-07T01:53:27.190614",
     "exception": false,
     "start_time": "2023-12-07T01:53:27.180642",
     "status": "completed"
    },
    "tags": []
   },
   "outputs": [],
   "source": [
    "from sklearn.preprocessing import MinMaxScaler # Since we know the upper and lower limit"
   ]
  },
  {
   "cell_type": "code",
   "execution_count": 12,
   "id": "a2d1e368",
   "metadata": {
    "execution": {
     "iopub.execute_input": "2023-12-07T01:53:27.201552Z",
     "iopub.status.busy": "2023-12-07T01:53:27.200959Z",
     "iopub.status.idle": "2023-12-07T01:53:27.208061Z",
     "shell.execute_reply": "2023-12-07T01:53:27.207242Z"
    },
    "papermill": {
     "duration": 0.013984,
     "end_time": "2023-12-07T01:53:27.209459",
     "exception": false,
     "start_time": "2023-12-07T01:53:27.195475",
     "status": "completed"
    },
    "tags": []
   },
   "outputs": [],
   "source": [
    "scaler = MinMaxScaler()\n",
    "\n",
    "X_train_scaled = scaler.fit_transform(X_train)\n",
    "X_test_scaled = scaler.transform(X_test)"
   ]
  },
  {
   "cell_type": "code",
   "execution_count": 13,
   "id": "fc089503",
   "metadata": {
    "execution": {
     "iopub.execute_input": "2023-12-07T01:53:27.220028Z",
     "iopub.status.busy": "2023-12-07T01:53:27.219596Z",
     "iopub.status.idle": "2023-12-07T01:53:27.223974Z",
     "shell.execute_reply": "2023-12-07T01:53:27.223458Z"
    },
    "papermill": {
     "duration": 0.011077,
     "end_time": "2023-12-07T01:53:27.225323",
     "exception": false,
     "start_time": "2023-12-07T01:53:27.214246",
     "status": "completed"
    },
    "tags": []
   },
   "outputs": [
    {
     "data": {
      "text/plain": [
       "array([[0.4       , 0.42857143, 0.5       , ..., 0.57142857, 0.50320513,\n",
       "        0.        ],\n",
       "       [0.56      , 0.64285714, 0.        , ..., 0.57142857, 0.55769231,\n",
       "        1.        ],\n",
       "       [0.2       , 0.32142857, 0.5       , ..., 0.28571429, 0.34615385,\n",
       "        0.        ],\n",
       "       ...,\n",
       "       [0.7       , 0.53571429, 0.5       , ..., 0.57142857, 0.74038462,\n",
       "        1.        ],\n",
       "       [0.72      , 0.67857143, 1.        , ..., 0.71428571, 0.77884615,\n",
       "        1.        ],\n",
       "       [0.2       , 0.46428571, 0.        , ..., 0.14285714, 0.32051282,\n",
       "        0.        ]])"
      ]
     },
     "execution_count": 13,
     "metadata": {},
     "output_type": "execute_result"
    }
   ],
   "source": [
    "X_train_scaled"
   ]
  },
  {
   "cell_type": "code",
   "execution_count": 14,
   "id": "39a04e48",
   "metadata": {
    "execution": {
     "iopub.execute_input": "2023-12-07T01:53:27.236267Z",
     "iopub.status.busy": "2023-12-07T01:53:27.235844Z",
     "iopub.status.idle": "2023-12-07T01:53:36.185072Z",
     "shell.execute_reply": "2023-12-07T01:53:36.184201Z"
    },
    "papermill": {
     "duration": 8.956903,
     "end_time": "2023-12-07T01:53:36.187167",
     "exception": false,
     "start_time": "2023-12-07T01:53:27.230264",
     "status": "completed"
    },
    "tags": []
   },
   "outputs": [],
   "source": [
    "import tensorflow\n",
    "from tensorflow import keras\n",
    "from keras import Sequential\n",
    "from keras.layers import Dense"
   ]
  },
  {
   "cell_type": "code",
   "execution_count": 15,
   "id": "35b25cbf",
   "metadata": {
    "execution": {
     "iopub.execute_input": "2023-12-07T01:53:36.199171Z",
     "iopub.status.busy": "2023-12-07T01:53:36.198407Z",
     "iopub.status.idle": "2023-12-07T01:53:36.318768Z",
     "shell.execute_reply": "2023-12-07T01:53:36.317932Z"
    },
    "papermill": {
     "duration": 0.128066,
     "end_time": "2023-12-07T01:53:36.320627",
     "exception": false,
     "start_time": "2023-12-07T01:53:36.192561",
     "status": "completed"
    },
    "tags": []
   },
   "outputs": [],
   "source": [
    "model = Sequential()\n",
    "\n",
    "model.add(Dense(7,activation='relu',input_dim=7))\n",
    "model.add(Dense(7,activation='relu'))\n",
    "model.add(Dense(1,activation='linear'))"
   ]
  },
  {
   "cell_type": "code",
   "execution_count": 16,
   "id": "6ab1b9ac",
   "metadata": {
    "execution": {
     "iopub.execute_input": "2023-12-07T01:53:36.332010Z",
     "iopub.status.busy": "2023-12-07T01:53:36.331579Z",
     "iopub.status.idle": "2023-12-07T01:53:36.347595Z",
     "shell.execute_reply": "2023-12-07T01:53:36.346613Z"
    },
    "papermill": {
     "duration": 0.025265,
     "end_time": "2023-12-07T01:53:36.351061",
     "exception": false,
     "start_time": "2023-12-07T01:53:36.325796",
     "status": "completed"
    },
    "tags": []
   },
   "outputs": [
    {
     "name": "stdout",
     "output_type": "stream",
     "text": [
      "Model: \"sequential\"\n",
      "_________________________________________________________________\n",
      " Layer (type)                Output Shape              Param #   \n",
      "=================================================================\n",
      " dense (Dense)               (None, 7)                 56        \n",
      "                                                                 \n",
      " dense_1 (Dense)             (None, 7)                 56        \n",
      "                                                                 \n",
      " dense_2 (Dense)             (None, 1)                 8         \n",
      "                                                                 \n",
      "=================================================================\n",
      "Total params: 120 (480.00 Byte)\n",
      "Trainable params: 120 (480.00 Byte)\n",
      "Non-trainable params: 0 (0.00 Byte)\n",
      "_________________________________________________________________\n"
     ]
    }
   ],
   "source": [
    "model.summary()"
   ]
  },
  {
   "cell_type": "code",
   "execution_count": 17,
   "id": "06b402df",
   "metadata": {
    "execution": {
     "iopub.execute_input": "2023-12-07T01:53:36.363335Z",
     "iopub.status.busy": "2023-12-07T01:53:36.363118Z",
     "iopub.status.idle": "2023-12-07T01:53:36.374999Z",
     "shell.execute_reply": "2023-12-07T01:53:36.374347Z"
    },
    "papermill": {
     "duration": 0.01988,
     "end_time": "2023-12-07T01:53:36.376603",
     "exception": false,
     "start_time": "2023-12-07T01:53:36.356723",
     "status": "completed"
    },
    "tags": []
   },
   "outputs": [],
   "source": [
    "model.compile(loss='mean_squared_error',optimizer='Adam')"
   ]
  },
  {
   "cell_type": "code",
   "execution_count": 18,
   "id": "9a19a1b8",
   "metadata": {
    "execution": {
     "iopub.execute_input": "2023-12-07T01:53:36.389271Z",
     "iopub.status.busy": "2023-12-07T01:53:36.388799Z",
     "iopub.status.idle": "2023-12-07T01:53:40.360020Z",
     "shell.execute_reply": "2023-12-07T01:53:40.359308Z"
    },
    "papermill": {
     "duration": 3.979234,
     "end_time": "2023-12-07T01:53:40.361623",
     "exception": false,
     "start_time": "2023-12-07T01:53:36.382389",
     "status": "completed"
    },
    "tags": []
   },
   "outputs": [
    {
     "name": "stdout",
     "output_type": "stream",
     "text": [
      "Epoch 1/100\n",
      "10/10 [==============================] - 1s 17ms/step - loss: 0.8235 - val_loss: 0.8032\n",
      "Epoch 2/100\n",
      "10/10 [==============================] - 0s 3ms/step - loss: 0.6704 - val_loss: 0.6770\n",
      "Epoch 3/100\n",
      "10/10 [==============================] - 0s 3ms/step - loss: 0.5736 - val_loss: 0.5961\n",
      "Epoch 4/100\n",
      "10/10 [==============================] - 0s 3ms/step - loss: 0.5155 - val_loss: 0.5471\n",
      "Epoch 5/100\n",
      "10/10 [==============================] - 0s 3ms/step - loss: 0.4834 - val_loss: 0.5201\n",
      "Epoch 6/100\n",
      "10/10 [==============================] - 0s 3ms/step - loss: 0.4646 - val_loss: 0.5009\n",
      "Epoch 7/100\n",
      "10/10 [==============================] - 0s 3ms/step - loss: 0.4484 - val_loss: 0.4833\n",
      "Epoch 8/100\n",
      "10/10 [==============================] - 0s 3ms/step - loss: 0.4316 - val_loss: 0.4645\n",
      "Epoch 9/100\n",
      "10/10 [==============================] - 0s 5ms/step - loss: 0.4127 - val_loss: 0.4424\n",
      "Epoch 10/100\n",
      "10/10 [==============================] - 0s 3ms/step - loss: 0.3899 - val_loss: 0.4145\n",
      "Epoch 11/100\n",
      "10/10 [==============================] - 0s 3ms/step - loss: 0.3580 - val_loss: 0.3754\n",
      "Epoch 12/100\n",
      "10/10 [==============================] - 0s 3ms/step - loss: 0.3183 - val_loss: 0.3197\n",
      "Epoch 13/100\n",
      "10/10 [==============================] - 0s 3ms/step - loss: 0.2628 - val_loss: 0.2361\n",
      "Epoch 14/100\n",
      "10/10 [==============================] - 0s 3ms/step - loss: 0.1766 - val_loss: 0.1383\n",
      "Epoch 15/100\n",
      "10/10 [==============================] - 0s 3ms/step - loss: 0.0923 - val_loss: 0.0607\n",
      "Epoch 16/100\n",
      "10/10 [==============================] - 0s 3ms/step - loss: 0.0402 - val_loss: 0.0266\n",
      "Epoch 17/100\n",
      "10/10 [==============================] - 0s 3ms/step - loss: 0.0211 - val_loss: 0.0196\n",
      "Epoch 18/100\n",
      "10/10 [==============================] - 0s 3ms/step - loss: 0.0181 - val_loss: 0.0187\n",
      "Epoch 19/100\n",
      "10/10 [==============================] - 0s 3ms/step - loss: 0.0174 - val_loss: 0.0173\n",
      "Epoch 20/100\n",
      "10/10 [==============================] - 0s 5ms/step - loss: 0.0162 - val_loss: 0.0159\n",
      "Epoch 21/100\n",
      "10/10 [==============================] - 0s 4ms/step - loss: 0.0153 - val_loss: 0.0151\n",
      "Epoch 22/100\n",
      "10/10 [==============================] - 0s 3ms/step - loss: 0.0145 - val_loss: 0.0145\n",
      "Epoch 23/100\n",
      "10/10 [==============================] - 0s 3ms/step - loss: 0.0140 - val_loss: 0.0140\n",
      "Epoch 24/100\n",
      "10/10 [==============================] - 0s 3ms/step - loss: 0.0135 - val_loss: 0.0135\n",
      "Epoch 25/100\n",
      "10/10 [==============================] - 0s 3ms/step - loss: 0.0130 - val_loss: 0.0132\n",
      "Epoch 26/100\n",
      "10/10 [==============================] - 0s 3ms/step - loss: 0.0126 - val_loss: 0.0128\n",
      "Epoch 27/100\n",
      "10/10 [==============================] - 0s 3ms/step - loss: 0.0122 - val_loss: 0.0125\n",
      "Epoch 28/100\n",
      "10/10 [==============================] - 0s 3ms/step - loss: 0.0119 - val_loss: 0.0122\n",
      "Epoch 29/100\n",
      "10/10 [==============================] - 0s 3ms/step - loss: 0.0115 - val_loss: 0.0119\n",
      "Epoch 30/100\n",
      "10/10 [==============================] - 0s 5ms/step - loss: 0.0112 - val_loss: 0.0117\n",
      "Epoch 31/100\n",
      "10/10 [==============================] - 0s 3ms/step - loss: 0.0109 - val_loss: 0.0114\n",
      "Epoch 32/100\n",
      "10/10 [==============================] - 0s 3ms/step - loss: 0.0107 - val_loss: 0.0112\n",
      "Epoch 33/100\n",
      "10/10 [==============================] - 0s 3ms/step - loss: 0.0104 - val_loss: 0.0110\n",
      "Epoch 34/100\n",
      "10/10 [==============================] - 0s 3ms/step - loss: 0.0102 - val_loss: 0.0108\n",
      "Epoch 35/100\n",
      "10/10 [==============================] - 0s 3ms/step - loss: 0.0100 - val_loss: 0.0106\n",
      "Epoch 36/100\n",
      "10/10 [==============================] - 0s 3ms/step - loss: 0.0098 - val_loss: 0.0104\n",
      "Epoch 37/100\n",
      "10/10 [==============================] - 0s 3ms/step - loss: 0.0096 - val_loss: 0.0103\n",
      "Epoch 38/100\n",
      "10/10 [==============================] - 0s 3ms/step - loss: 0.0095 - val_loss: 0.0101\n",
      "Epoch 39/100\n",
      "10/10 [==============================] - 0s 3ms/step - loss: 0.0093 - val_loss: 0.0100\n",
      "Epoch 40/100\n",
      "10/10 [==============================] - 0s 3ms/step - loss: 0.0091 - val_loss: 0.0099\n",
      "Epoch 41/100\n",
      "10/10 [==============================] - 0s 3ms/step - loss: 0.0090 - val_loss: 0.0097\n",
      "Epoch 42/100\n",
      "10/10 [==============================] - 0s 3ms/step - loss: 0.0089 - val_loss: 0.0096\n",
      "Epoch 43/100\n",
      "10/10 [==============================] - 0s 3ms/step - loss: 0.0088 - val_loss: 0.0095\n",
      "Epoch 44/100\n",
      "10/10 [==============================] - 0s 3ms/step - loss: 0.0087 - val_loss: 0.0093\n",
      "Epoch 45/100\n",
      "10/10 [==============================] - 0s 5ms/step - loss: 0.0085 - val_loss: 0.0092\n",
      "Epoch 46/100\n",
      "10/10 [==============================] - 0s 5ms/step - loss: 0.0084 - val_loss: 0.0091\n",
      "Epoch 47/100\n",
      "10/10 [==============================] - 0s 3ms/step - loss: 0.0083 - val_loss: 0.0090\n",
      "Epoch 48/100\n",
      "10/10 [==============================] - 0s 3ms/step - loss: 0.0082 - val_loss: 0.0089\n",
      "Epoch 49/100\n",
      "10/10 [==============================] - 0s 3ms/step - loss: 0.0081 - val_loss: 0.0088\n",
      "Epoch 50/100\n",
      "10/10 [==============================] - 0s 3ms/step - loss: 0.0080 - val_loss: 0.0087\n",
      "Epoch 51/100\n",
      "10/10 [==============================] - 0s 3ms/step - loss: 0.0080 - val_loss: 0.0086\n",
      "Epoch 52/100\n",
      "10/10 [==============================] - 0s 3ms/step - loss: 0.0079 - val_loss: 0.0085\n",
      "Epoch 53/100\n",
      "10/10 [==============================] - 0s 3ms/step - loss: 0.0078 - val_loss: 0.0085\n",
      "Epoch 54/100\n",
      "10/10 [==============================] - 0s 3ms/step - loss: 0.0077 - val_loss: 0.0084\n",
      "Epoch 55/100\n",
      "10/10 [==============================] - 0s 3ms/step - loss: 0.0076 - val_loss: 0.0083\n",
      "Epoch 56/100\n",
      "10/10 [==============================] - 0s 3ms/step - loss: 0.0076 - val_loss: 0.0082\n",
      "Epoch 57/100\n",
      "10/10 [==============================] - 0s 3ms/step - loss: 0.0075 - val_loss: 0.0081\n",
      "Epoch 58/100\n",
      "10/10 [==============================] - 0s 3ms/step - loss: 0.0075 - val_loss: 0.0081\n",
      "Epoch 59/100\n",
      "10/10 [==============================] - 0s 3ms/step - loss: 0.0074 - val_loss: 0.0080\n",
      "Epoch 60/100\n",
      "10/10 [==============================] - 0s 3ms/step - loss: 0.0074 - val_loss: 0.0079\n",
      "Epoch 61/100\n",
      "10/10 [==============================] - 0s 3ms/step - loss: 0.0073 - val_loss: 0.0079\n",
      "Epoch 62/100\n",
      "10/10 [==============================] - 0s 3ms/step - loss: 0.0072 - val_loss: 0.0078\n",
      "Epoch 63/100\n",
      "10/10 [==============================] - 0s 3ms/step - loss: 0.0072 - val_loss: 0.0078\n",
      "Epoch 64/100\n",
      "10/10 [==============================] - 0s 3ms/step - loss: 0.0072 - val_loss: 0.0077\n",
      "Epoch 65/100\n",
      "10/10 [==============================] - 0s 3ms/step - loss: 0.0071 - val_loss: 0.0076\n",
      "Epoch 66/100\n",
      "10/10 [==============================] - 0s 3ms/step - loss: 0.0071 - val_loss: 0.0076\n",
      "Epoch 67/100\n",
      "10/10 [==============================] - 0s 3ms/step - loss: 0.0070 - val_loss: 0.0075\n",
      "Epoch 68/100\n",
      "10/10 [==============================] - 0s 3ms/step - loss: 0.0070 - val_loss: 0.0075\n",
      "Epoch 69/100\n",
      "10/10 [==============================] - 0s 3ms/step - loss: 0.0069 - val_loss: 0.0074\n",
      "Epoch 70/100\n",
      "10/10 [==============================] - 0s 3ms/step - loss: 0.0069 - val_loss: 0.0073\n",
      "Epoch 71/100\n",
      "10/10 [==============================] - 0s 3ms/step - loss: 0.0069 - val_loss: 0.0073\n",
      "Epoch 72/100\n",
      "10/10 [==============================] - 0s 3ms/step - loss: 0.0068 - val_loss: 0.0073\n",
      "Epoch 73/100\n",
      "10/10 [==============================] - 0s 3ms/step - loss: 0.0068 - val_loss: 0.0072\n",
      "Epoch 74/100\n",
      "10/10 [==============================] - 0s 3ms/step - loss: 0.0068 - val_loss: 0.0072\n",
      "Epoch 75/100\n",
      "10/10 [==============================] - 0s 3ms/step - loss: 0.0067 - val_loss: 0.0071\n",
      "Epoch 76/100\n",
      "10/10 [==============================] - 0s 3ms/step - loss: 0.0067 - val_loss: 0.0071\n",
      "Epoch 77/100\n",
      "10/10 [==============================] - 0s 3ms/step - loss: 0.0067 - val_loss: 0.0070\n",
      "Epoch 78/100\n",
      "10/10 [==============================] - 0s 3ms/step - loss: 0.0067 - val_loss: 0.0070\n",
      "Epoch 79/100\n",
      "10/10 [==============================] - 0s 3ms/step - loss: 0.0066 - val_loss: 0.0070\n",
      "Epoch 80/100\n",
      "10/10 [==============================] - 0s 3ms/step - loss: 0.0066 - val_loss: 0.0069\n",
      "Epoch 81/100\n",
      "10/10 [==============================] - 0s 3ms/step - loss: 0.0066 - val_loss: 0.0069\n",
      "Epoch 82/100\n",
      "10/10 [==============================] - 0s 3ms/step - loss: 0.0065 - val_loss: 0.0069\n",
      "Epoch 83/100\n",
      "10/10 [==============================] - 0s 3ms/step - loss: 0.0065 - val_loss: 0.0068\n",
      "Epoch 84/100\n",
      "10/10 [==============================] - 0s 3ms/step - loss: 0.0065 - val_loss: 0.0068\n",
      "Epoch 85/100\n",
      "10/10 [==============================] - 0s 3ms/step - loss: 0.0065 - val_loss: 0.0067\n",
      "Epoch 86/100\n",
      "10/10 [==============================] - 0s 3ms/step - loss: 0.0064 - val_loss: 0.0067\n",
      "Epoch 87/100\n",
      "10/10 [==============================] - 0s 3ms/step - loss: 0.0064 - val_loss: 0.0066\n",
      "Epoch 88/100\n",
      "10/10 [==============================] - 0s 3ms/step - loss: 0.0064 - val_loss: 0.0066\n",
      "Epoch 89/100\n",
      "10/10 [==============================] - 0s 3ms/step - loss: 0.0064 - val_loss: 0.0066\n",
      "Epoch 90/100\n",
      "10/10 [==============================] - 0s 3ms/step - loss: 0.0063 - val_loss: 0.0066\n",
      "Epoch 91/100\n",
      "10/10 [==============================] - 0s 3ms/step - loss: 0.0063 - val_loss: 0.0065\n",
      "Epoch 92/100\n",
      "10/10 [==============================] - 0s 3ms/step - loss: 0.0063 - val_loss: 0.0065\n",
      "Epoch 93/100\n",
      "10/10 [==============================] - 0s 3ms/step - loss: 0.0063 - val_loss: 0.0064\n",
      "Epoch 94/100\n",
      "10/10 [==============================] - 0s 3ms/step - loss: 0.0062 - val_loss: 0.0064\n",
      "Epoch 95/100\n",
      "10/10 [==============================] - 0s 3ms/step - loss: 0.0062 - val_loss: 0.0064\n",
      "Epoch 96/100\n",
      "10/10 [==============================] - 0s 5ms/step - loss: 0.0062 - val_loss: 0.0063\n",
      "Epoch 97/100\n",
      "10/10 [==============================] - 0s 3ms/step - loss: 0.0062 - val_loss: 0.0063\n",
      "Epoch 98/100\n",
      "10/10 [==============================] - 0s 3ms/step - loss: 0.0062 - val_loss: 0.0064\n",
      "Epoch 99/100\n",
      "10/10 [==============================] - 0s 3ms/step - loss: 0.0062 - val_loss: 0.0063\n",
      "Epoch 100/100\n",
      "10/10 [==============================] - 0s 3ms/step - loss: 0.0061 - val_loss: 0.0062\n"
     ]
    }
   ],
   "source": [
    "history = model.fit(X_train_scaled,y_train,epochs=100,validation_split=0.2)"
   ]
  },
  {
   "cell_type": "code",
   "execution_count": 19,
   "id": "3a4ff9ac",
   "metadata": {
    "execution": {
     "iopub.execute_input": "2023-12-07T01:53:40.407308Z",
     "iopub.status.busy": "2023-12-07T01:53:40.407069Z",
     "iopub.status.idle": "2023-12-07T01:53:40.531028Z",
     "shell.execute_reply": "2023-12-07T01:53:40.530258Z"
    },
    "papermill": {
     "duration": 0.148371,
     "end_time": "2023-12-07T01:53:40.532628",
     "exception": false,
     "start_time": "2023-12-07T01:53:40.384257",
     "status": "completed"
    },
    "tags": []
   },
   "outputs": [
    {
     "name": "stdout",
     "output_type": "stream",
     "text": [
      "4/4 [==============================] - 0s 1ms/step\n"
     ]
    },
    {
     "data": {
      "text/plain": [
       "array([[0.5961473 ],\n",
       "       [0.6798684 ],\n",
       "       [0.9030646 ],\n",
       "       [0.70669293],\n",
       "       [0.84951884],\n",
       "       [0.6487798 ],\n",
       "       [0.7313303 ],\n",
       "       [0.8202657 ],\n",
       "       [0.753741  ],\n",
       "       [0.7465679 ],\n",
       "       [0.63505083],\n",
       "       [0.58505523],\n",
       "       [0.81275725],\n",
       "       [0.7167173 ],\n",
       "       [0.75038934],\n",
       "       [0.906252  ],\n",
       "       [0.6727827 ],\n",
       "       [0.7284192 ],\n",
       "       [0.86028314],\n",
       "       [0.6259126 ],\n",
       "       [0.670994  ],\n",
       "       [0.8009744 ],\n",
       "       [0.8685174 ],\n",
       "       [0.6482505 ],\n",
       "       [0.7701822 ],\n",
       "       [0.58897126],\n",
       "       [0.8913534 ],\n",
       "       [0.6480186 ],\n",
       "       [0.8179215 ],\n",
       "       [0.6871796 ],\n",
       "       [0.654139  ],\n",
       "       [0.7839269 ],\n",
       "       [0.61008465],\n",
       "       [0.873545  ],\n",
       "       [0.5377715 ],\n",
       "       [0.7604019 ],\n",
       "       [0.6551809 ],\n",
       "       [0.599761  ],\n",
       "       [0.64732933],\n",
       "       [0.8473745 ],\n",
       "       [0.5544554 ],\n",
       "       [0.73785347],\n",
       "       [0.83404964],\n",
       "       [0.9276946 ],\n",
       "       [0.76032656],\n",
       "       [0.55116534],\n",
       "       [0.65765965],\n",
       "       [0.72705704],\n",
       "       [0.7482384 ],\n",
       "       [0.7041299 ],\n",
       "       [0.86556435],\n",
       "       [0.8787972 ],\n",
       "       [0.87282795],\n",
       "       [0.60412645],\n",
       "       [0.768348  ],\n",
       "       [0.6221694 ],\n",
       "       [0.7960271 ],\n",
       "       [0.5888847 ],\n",
       "       [0.7611622 ],\n",
       "       [0.71328837],\n",
       "       [0.4343313 ],\n",
       "       [0.8171012 ],\n",
       "       [0.8550022 ],\n",
       "       [0.84933764],\n",
       "       [0.948762  ],\n",
       "       [0.593896  ],\n",
       "       [0.75365275],\n",
       "       [0.8244441 ],\n",
       "       [0.94891393],\n",
       "       [0.6872027 ],\n",
       "       [0.55084383],\n",
       "       [0.676281  ],\n",
       "       [0.7310047 ],\n",
       "       [0.5485017 ],\n",
       "       [0.8526724 ],\n",
       "       [0.6508745 ],\n",
       "       [0.9103336 ],\n",
       "       [0.85795945],\n",
       "       [0.71534115],\n",
       "       [0.7510931 ],\n",
       "       [0.9060729 ],\n",
       "       [0.53425616],\n",
       "       [0.89682   ],\n",
       "       [0.84846544],\n",
       "       [0.84461564],\n",
       "       [0.621318  ],\n",
       "       [0.8547887 ],\n",
       "       [0.86466634],\n",
       "       [0.64361227],\n",
       "       [0.5896958 ],\n",
       "       [0.68331534],\n",
       "       [0.77426755],\n",
       "       [0.6958523 ],\n",
       "       [0.7295564 ],\n",
       "       [0.7592277 ],\n",
       "       [0.83896255],\n",
       "       [0.8520014 ],\n",
       "       [0.64848864],\n",
       "       [0.7184529 ],\n",
       "       [0.6725823 ]], dtype=float32)"
      ]
     },
     "execution_count": 19,
     "metadata": {},
     "output_type": "execute_result"
    }
   ],
   "source": [
    "y_pred = model.predict(X_test_scaled)\n",
    "y_pred"
   ]
  },
  {
   "cell_type": "code",
   "execution_count": 20,
   "id": "662cf8b1",
   "metadata": {
    "execution": {
     "iopub.execute_input": "2023-12-07T01:53:40.578176Z",
     "iopub.status.busy": "2023-12-07T01:53:40.577939Z",
     "iopub.status.idle": "2023-12-07T01:53:40.581443Z",
     "shell.execute_reply": "2023-12-07T01:53:40.580719Z"
    },
    "papermill": {
     "duration": 0.027915,
     "end_time": "2023-12-07T01:53:40.583040",
     "exception": false,
     "start_time": "2023-12-07T01:53:40.555125",
     "status": "completed"
    },
    "tags": []
   },
   "outputs": [],
   "source": [
    "from sklearn.metrics import r2_score"
   ]
  },
  {
   "cell_type": "code",
   "execution_count": 21,
   "id": "c4383fee",
   "metadata": {
    "execution": {
     "iopub.execute_input": "2023-12-07T01:53:40.627946Z",
     "iopub.status.busy": "2023-12-07T01:53:40.627692Z",
     "iopub.status.idle": "2023-12-07T01:53:40.633940Z",
     "shell.execute_reply": "2023-12-07T01:53:40.633159Z"
    },
    "papermill": {
     "duration": 0.030438,
     "end_time": "2023-12-07T01:53:40.635445",
     "exception": false,
     "start_time": "2023-12-07T01:53:40.605007",
     "status": "completed"
    },
    "tags": []
   },
   "outputs": [
    {
     "data": {
      "text/plain": [
       "0.7011245799113837"
      ]
     },
     "execution_count": 21,
     "metadata": {},
     "output_type": "execute_result"
    }
   ],
   "source": [
    "r2_score(y_test,y_pred)"
   ]
  },
  {
   "cell_type": "code",
   "execution_count": null,
   "id": "27bff835",
   "metadata": {
    "papermill": {
     "duration": 0.02173,
     "end_time": "2023-12-07T01:53:40.679838",
     "exception": false,
     "start_time": "2023-12-07T01:53:40.658108",
     "status": "completed"
    },
    "tags": []
   },
   "outputs": [],
   "source": []
  }
 ],
 "metadata": {
  "kaggle": {
   "accelerator": "none",
   "dataSources": [
    {
     "datasetId": 14872,
     "sourceId": 228180,
     "sourceType": "datasetVersion"
    }
   ],
   "dockerImageVersionId": 30587,
   "isGpuEnabled": false,
   "isInternetEnabled": true,
   "language": "python",
   "sourceType": "notebook"
  },
  "kernelspec": {
   "display_name": "Python 3",
   "language": "python",
   "name": "python3"
  },
  "language_info": {
   "codemirror_mode": {
    "name": "ipython",
    "version": 3
   },
   "file_extension": ".py",
   "mimetype": "text/x-python",
   "name": "python",
   "nbconvert_exporter": "python",
   "pygments_lexer": "ipython3",
   "version": "3.10.12"
  },
  "papermill": {
   "default_parameters": {},
   "duration": 18.075267,
   "end_time": "2023-12-07T01:53:41.720295",
   "environment_variables": {},
   "exception": null,
   "input_path": "__notebook__.ipynb",
   "output_path": "__notebook__.ipynb",
   "parameters": {},
   "start_time": "2023-12-07T01:53:23.645028",
   "version": "2.4.0"
  }
 },
 "nbformat": 4,
 "nbformat_minor": 5
}
